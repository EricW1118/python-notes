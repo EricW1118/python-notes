{
 "cells": [
  {
   "cell_type": "markdown",
   "metadata": {},
   "source": [
    "### Tools for creating virtual environments in Python project"
   ]
  },
  {
   "cell_type": "markdown",
   "metadata": {},
   "source": [
    "##### Updating a package within a project can introduce compatibility issues with other packages that rely on it. Additionally, upgrading may lead to dependency conflicts, potentially breaking dependent packages that utilize code from the updated package. Virtual environments can help us solve these problems.\n",
    "There are several virtual environment for Python projects, there are listed as following:\n",
    "1. Virtualenv\n",
    "2. Conda\n",
    "3. Pipenv\n",
    "4. venv\n",
    "\n",
    "Among the tools above, the most commonly used are Conda, Pipenv, and venv. Specifically, Conda finds favor among Data Scientists, while Pipenv is preferred by software engineers. Conda serves both as a package manager and a virtual environment, offering the added advantage of enabling users to control the Python version within the virtual environment, thus ensuring compatibility with the project. Given its convenience, Conda is my tool of choice for managing projects."
   ]
  },
  {
   "cell_type": "markdown",
   "metadata": {},
   "source": [
    "##### 2. Install Conda"
   ]
  },
  {
   "cell_type": "markdown",
   "metadata": {},
   "source": [
    "I am using MacOS as an example to show you how to install Conda. For other platforms, you can find the ways to install it on the offical website. "
   ]
  },
  {
   "cell_type": "code",
   "execution_count": null,
   "metadata": {},
   "outputs": [],
   "source": [
    "%brew install anaconda # % is only used for Jupyter Notebook, if you are in a terminal, you should remove it."
   ]
  },
  {
   "cell_type": "markdown",
   "metadata": {},
   "source": [
    "Use --help to show the different options/features we can follow"
   ]
  },
  {
   "cell_type": "code",
   "execution_count": null,
   "metadata": {},
   "outputs": [],
   "source": [
    "%conda --help"
   ]
  },
  {
   "cell_type": "markdown",
   "metadata": {},
   "source": [
    "Create an empty environment"
   ]
  },
  {
   "cell_type": "code",
   "execution_count": null,
   "metadata": {},
   "outputs": [],
   "source": [
    "%conda create -n virtulEnv # You can change this name as what you like.\n",
    "# !conda create --name virtulEnv # You can also use this command to create a virtual environment by conda. The same as the one above."
   ]
  },
  {
   "cell_type": "markdown",
   "metadata": {},
   "source": [
    "Create environment with specific python version or the packages you would like to install in your enviroment"
   ]
  },
  {
   "cell_type": "code",
   "execution_count": null,
   "metadata": {},
   "outputs": [],
   "source": [
    "# %conda create --name envname python==3.7 package_name1 package_name2\n",
    "%conda create --name virEnv python==3.7 pytorch tensorflow, numpy"
   ]
  },
  {
   "cell_type": "markdown",
   "metadata": {},
   "source": [
    "Activiate/Deactiviate the environment you create "
   ]
  },
  {
   "cell_type": "code",
   "execution_count": null,
   "metadata": {},
   "outputs": [],
   "source": [
    "%conda activate {env_name} # Activiate"
   ]
  },
  {
   "cell_type": "code",
   "execution_count": null,
   "metadata": {},
   "outputs": [],
   "source": [
    "%conda deactivate # Deactiviate"
   ]
  },
  {
   "cell_type": "markdown",
   "metadata": {},
   "source": [
    "Install packages after you create your environment"
   ]
  },
  {
   "cell_type": "code",
   "execution_count": null,
   "metadata": {},
   "outputs": [],
   "source": [
    "%conda install pkg_n1==2.x.y pkg_n2==1.x.y # list the pakages here"
   ]
  },
  {
   "cell_type": "markdown",
   "metadata": {},
   "source": [
    "You can also use command pip to install the packages, but there are some limitations if you use pip in conda. \n",
    "When you create virtual environment using conda, you might share your environment to other places or with other people using `conda env export --from-history` in future.\n",
    "In this case, conda only exports the packages you installed by conda but the ones installed by pip. This would cause some problems for you when you are transfering or sharing your environment with others, at least this will take you more time to deal with the packages you installed using pip or other tools. Therefore, I recommand you to install packages using conda install rather than pip. "
   ]
  },
  {
   "cell_type": "markdown",
   "metadata": {},
   "source": [
    "Take a look at the environments and the packages installed"
   ]
  },
  {
   "cell_type": "code",
   "execution_count": null,
   "metadata": {},
   "outputs": [],
   "source": [
    "%conda list # List all the packages in current environment\n",
    "\n",
    "%conda list -n virtualEnv # List all the packages install in a specific environment (You can change the name of the environment)\n",
    "\n",
    "%conda env list # List all the environments you have created\n",
    "# or\n",
    "%conda info --envs  \n",
    "\n",
    "# After listing all the environments, environment marked by star (*) is currently being activated"
   ]
  },
  {
   "cell_type": "markdown",
   "metadata": {},
   "source": [
    "Remove an environment"
   ]
  },
  {
   "cell_type": "code",
   "execution_count": null,
   "metadata": {},
   "outputs": [],
   "source": [
    "%conda env remove -n env_name # Remove environment named \"env_name\""
   ]
  },
  {
   "cell_type": "markdown",
   "metadata": {},
   "source": [
    "Create a same environment as an existing one"
   ]
  },
  {
   "cell_type": "code",
   "execution_count": null,
   "metadata": {},
   "outputs": [],
   "source": [
    "%conda list --explicit > spec-file.txt # Export the packege names from current environment to a file designated\n",
    "\n",
    "%conda create --name envname --file spec-file.txt # Use the file exported above to create a new environment\n",
    "\n",
    "%conda install --name envname --file another_spec-file.txt # Use this to install packages listed in a file for current environment"
   ]
  },
  {
   "cell_type": "markdown",
   "metadata": {},
   "source": [
    "Sharing environments across platforms"
   ]
  },
  {
   "cell_type": "code",
   "execution_count": null,
   "metadata": {},
   "outputs": [],
   "source": [
    "%conda install python=3.7 pkg_name1 pkg_name2 pkg_name3 # This is the most commonly used way to download and install packages \n",
    "%conda env export --from-history > environment.yml # Export packages installed from Conda\n",
    "%conda env create -f environment.yml #Create new environment using the exported file"
   ]
  },
  {
   "cell_type": "markdown",
   "metadata": {},
   "source": [
    "If you had installed packages via `pip install` or other methods, the methods will not export them to the environment file. Therefore using conda to install packages (`conda install pkg_name`) is always a good way to share environment across different platform. In this case, we hand the compatible issues across different platform over to the conda management. "
   ]
  },
  {
   "cell_type": "markdown",
   "metadata": {},
   "source": [
    "Find more detail, look at here [Conda tutorial](https://docs.readthedocs.io/en/stable/guides/conda.html) "
   ]
  }
 ],
 "metadata": {
  "kernelspec": {
   "display_name": "Python 3",
   "language": "python",
   "name": "python3"
  },
  "language_info": {
   "codemirror_mode": {
    "name": "ipython",
    "version": 3
   },
   "file_extension": ".py",
   "mimetype": "text/x-python",
   "name": "python",
   "nbconvert_exporter": "python",
   "pygments_lexer": "ipython3",
   "version": "3.11.5"
  }
 },
 "nbformat": 4,
 "nbformat_minor": 2
}
